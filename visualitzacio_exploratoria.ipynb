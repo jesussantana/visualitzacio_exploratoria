{
 "cells": [
  {
   "cell_type": "markdown",
   "metadata": {},
   "source": [
    "# IT Academy - Data Science amb Python\n",
    "## Tasca 5: Visualització gràfica d'un dataset\n",
    "\n",
    "###  [Github Visualització Exploratoria](https://github.com/jesussantana/visualitzacio_exploratoria)"
   ]
  },
  {
   "cell_type": "markdown",
   "metadata": {},
   "source": [
    "###  Exercici 1\n",
    "- Resumeix gràficament el data set DelayedFlights.csv\n",
    "\n",
    "- Crea almenys una visualització per:\n",
    "\n",
    "  - Una variable categòrica (UniqueCarrier)\n",
    "  - Una variable numèrica (ArrDelay)\n",
    "  - Una variable numèrica i una categòrica (ArrDelay i UniqueCarrier)\n",
    "  - Dues variables numèriques (ArrDelay i DepDelay) \n",
    "  - Tres variables (ArrDelay, DepDelay i UniqueCarrier)\n",
    "  - Més de tres variables (ArrDelay, DepDelay, AirTime i UniqueCarrier)."
   ]
  },
  {
   "cell_type": "markdown",
   "metadata": {},
   "source": [
    "###  Exercici 2\n",
    "- Exporta els gràfics com imatges o com html."
   ]
  },
  {
   "cell_type": "markdown",
   "metadata": {},
   "source": [
    "###  Exercici 3\n",
    "- Exporta el data set net i amb les noves columnes a Excel."
   ]
  },
  {
   "cell_type": "markdown",
   "metadata": {},
   "source": [
    "###  Exercici 4\n",
    "- Integra les visualitzacions gràfiques, en la tasca 5, del Sprint 3."
   ]
  }
 ],
 "metadata": {
  "kernelspec": {
   "display_name": "Python 3",
   "language": "python",
   "name": "python3"
  },
  "language_info": {
   "codemirror_mode": {
    "name": "ipython",
    "version": 3
   },
   "file_extension": ".py",
   "mimetype": "text/x-python",
   "name": "python",
   "nbconvert_exporter": "python",
   "pygments_lexer": "ipython3",
   "version": "3.8.5"
  }
 },
 "nbformat": 4,
 "nbformat_minor": 4
}
